{
 "cells": [
  {
   "cell_type": "markdown",
   "id": "8adb98fb-0d56-485e-986c-8a04c70b6020",
   "metadata": {
    "nbgrader": {
     "grade": false,
     "grade_id": "cell-06d3e5bf55c941ae",
     "locked": true,
     "schema_version": 3,
     "solution": false,
     "task": false
    },
    "tags": []
   },
   "source": [
    "# Homework set 3"
   ]
  },
  {
   "cell_type": "markdown",
   "id": "f4d542f2-53a5-4571-996a-63307f888ed9",
   "metadata": {
    "nbgrader": {
     "grade": false,
     "grade_id": "cell-736ff6bc3e0d0696",
     "locked": true,
     "schema_version": 3,
     "solution": false,
     "task": false
    }
   },
   "source": [
    "Please **submit this Jupyter notebook through Canvas** no later than **Mon Nov. 21, 9:00**. **Submit the notebook file with your answers (as .ipynb file) and a pdf printout. The pdf version can be used by the teachers to provide feedback. A pdf version can be made using the save and export option in the Jupyter Lab file menu.**\n",
    "\n",
    "Homework is in **groups of two**, and you are expected to hand in original work. Work that is copied from another group will not be accepted."
   ]
  },
  {
   "cell_type": "markdown",
   "id": "5481631d-7c59-4b2f-be95-4a73568ad33c",
   "metadata": {
    "nbgrader": {
     "grade": false,
     "grade_id": "cell-b13bc5ed16bce8e0",
     "locked": true,
     "schema_version": 3,
     "solution": false,
     "task": false
    }
   },
   "source": [
    "# Exercise 0\n",
    "Write down the names + student ID of the people in your group."
   ]
  },
  {
   "cell_type": "markdown",
   "id": "423fae09-7e59-46ff-b4f6-0a4395438b2d",
   "metadata": {
    "nbgrader": {
     "grade": true,
     "grade_id": "cell-fd464f55ba436b1c",
     "locked": false,
     "points": 0,
     "schema_version": 3,
     "solution": true,
     "task": false
    }
   },
   "source": []
  },
  {
   "cell_type": "markdown",
   "id": "de187452-d370-4a1c-bfc9-2bad40f45833",
   "metadata": {
    "nbgrader": {
     "grade": false,
     "grade_id": "cell-b5a7855ecca9f6be",
     "locked": true,
     "schema_version": 3,
     "solution": false,
     "task": false
    }
   },
   "source": [
    "Run the following cell to import NumPy and Pyplot."
   ]
  },
  {
   "cell_type": "code",
   "execution_count": 1,
   "id": "1599c119-77a5-42e3-936a-6f6515e88e35",
   "metadata": {},
   "outputs": [],
   "source": [
    "import numpy as np\n",
    "import matplotlib.pyplot as plt"
   ]
  },
  {
   "cell_type": "markdown",
   "id": "33de5356-90ed-4fea-b7e5-396c316d1d4c",
   "metadata": {},
   "source": [
    "# Exercise 1"
   ]
  },
  {
   "cell_type": "markdown",
   "id": "73f6eb1d-666c-4aa7-8969-f30895ec0c76",
   "metadata": {},
   "source": [
    "In this exercise you will study the accuracy of several methods for computing the QR decomposition. You are asked to implement these methods yourself. (However, when testing your implementation you may compare with an external implementation.)\n"
   ]
  },
  {
   "cell_type": "markdown",
   "id": "0880f0a3-e3ed-4dbd-bdc5-40ccfb753978",
   "metadata": {},
   "source": [
    "## (a) \n",
    "Implement the classical and modified Gram-Schmidt procedures for computing the QR decomposition.\n",
    "\n",
    "Include a short documentation using triple quotes: describe at least the input and the output, and whether the code modifies the input matrix.\n"
   ]
  },
  {
   "cell_type": "code",
   "execution_count": 2,
   "id": "26f5a07a-b579-46bd-af9d-3db3146a782e",
   "metadata": {},
   "outputs": [
    {
     "name": "stdout",
     "output_type": "stream",
     "text": [
      "[[0.23594452 0.88164005 0.18451388 0.36000646]\n",
      " [0.87649054 0.10129866 0.35549167 0.64929725]\n",
      " [0.14797925 0.44131247 0.03510072 0.28178655]\n",
      " [0.62909275 0.73592373 0.87645047 0.35331942]\n",
      " [0.60516663 0.90518412 0.43981837 0.09809852]\n",
      " [0.52936216 0.49038043 0.80592163 0.05267014]\n",
      " [0.22105187 0.64369616 0.32029765 0.77624932]\n",
      " [0.88285038 0.40173533 0.96346701 0.69975151]\n",
      " [0.84939972 0.42777511 0.58066186 0.95502436]]\n",
      "[[0.23594452 0.88164005 0.18451388 0.36000646]\n",
      " [0.87649054 0.10129866 0.35549167 0.64929725]\n",
      " [0.14797925 0.44131247 0.03510072 0.28178655]\n",
      " [0.62909275 0.73592373 0.87645047 0.35331942]\n",
      " [0.60516663 0.90518412 0.43981837 0.09809852]\n",
      " [0.52936216 0.49038043 0.80592163 0.05267014]\n",
      " [0.22105187 0.64369616 0.32029765 0.77624932]\n",
      " [0.88285038 0.40173533 0.96346701 0.69975151]\n",
      " [0.84939972 0.42777511 0.58066186 0.95502436]]\n",
      "[[0.23594452 0.88164005 0.18451388 0.36000646]\n",
      " [0.87649054 0.10129866 0.35549167 0.64929725]\n",
      " [0.14797925 0.44131247 0.03510072 0.28178655]\n",
      " [0.62909275 0.73592373 0.87645047 0.35331942]\n",
      " [0.60516663 0.90518412 0.43981837 0.09809852]\n",
      " [0.52936216 0.49038043 0.80592163 0.05267014]\n",
      " [0.22105187 0.64369616 0.32029765 0.77624932]\n",
      " [0.88285038 0.40173533 0.96346701 0.69975151]\n",
      " [0.84939972 0.42777511 0.58066186 0.95502436]]\n",
      "[[ 0.12725382  0.48223515 -0.03243996 -0.26815377]\n",
      " [ 0.47272455  0.05540784 -0.59213927 -0.05716394]\n",
      " [ 0.07981081  0.24138693 -0.13558956 -0.07627167]\n",
      " [ 0.33929355  0.40253195  0.46310148 -0.42555328]\n",
      " [ 0.32638929  0.49511317 -0.13099781 -0.6766359 ]\n",
      " [ 0.28550507  0.26822588  0.48748083 -0.47905997]\n",
      " [ 0.11922165  0.35208577  0.18034858  0.15400556]\n",
      " [ 0.47615465  0.21973922  0.26893458 -0.16036391]\n",
      " [ 0.45811344  0.23398233 -0.23626642  0.03382305]]\n",
      "[[ 0.12725382  0.48223515 -0.41845006  0.04442556]\n",
      " [ 0.47272455  0.05540784  0.24743214  0.41328923]\n",
      " [ 0.07981081  0.24138693 -0.26007556  0.14216391]\n",
      " [ 0.33929355  0.40253195  0.28933627 -0.24449636]\n",
      " [ 0.32638929  0.49511317 -0.20829317 -0.31944339]\n",
      " [ 0.28550507  0.26822588  0.38895778 -0.43304351]\n",
      " [ 0.11922165  0.35208577 -0.14146249  0.42137875]\n",
      " [ 0.47615465  0.21973922  0.58670002  0.11253844]\n",
      " [ 0.45811344  0.23398233  0.23112629  0.51713986]]\n",
      "[[1.85412529 0.         1.62830656 1.40542061]\n",
      " [0.         1.82823682 0.         1.13305125]\n",
      " [0.         0.         0.69958005 0.        ]\n",
      " [0.         0.         0.         1.36203874]]\n",
      "[[1.85412529 0.         0.         0.        ]\n",
      " [0.         1.82823682 1.36422553 1.13305125]\n",
      " [0.         0.         1.13123084 0.56047311]\n",
      " [0.         0.         0.         1.0835953 ]]\n"
     ]
    }
   ],
   "source": [
    "A = np.random.rand(9,4)\n",
    "#A = np.array([[1, 1, 0], [1, 0, 1], [0, 1, 1]], dtype=np.float64)\n",
    "from scipy import linalg\n",
    "\n",
    "def classical_gram_schmidt(A):\n",
    "        '''\n",
    "    Implements classical Gram-Schmidt process https://arnold.hosted.uark.edu/NLA/Pages/CGSMGS.pdf\n",
    "\n",
    "    Inputs\n",
    "        A: numpy.ndarray of shape (M, N)\n",
    "    \n",
    "    Outputs\n",
    "        Q: numpy.ndarray of shape (M, N)\n",
    "        R: numpy.ndarray of shape (N, N)\n",
    "    '''\n",
    "    A = np.array(A, dtype=np.float64)\n",
    "    m, n = A.shape\n",
    "    R = np.zeros((n, n))\n",
    "    Q = np.empty((m, n))\n",
    "    R[0, 0] = linalg.norm(A[:, 0])\n",
    "    Q[:, 0] = A[:, 0] / R[0, 0]\n",
    "    for k in range(1, n):\n",
    "        R[:k-1, k] = np.dot(Q[:, :k-1].T, A[:, k])\n",
    "        z = A[:m, k] - np.dot(Q[:, :k-1], R[:k-1, k])\n",
    "        R[k, k] = linalg.norm(z) \n",
    "        Q[:, k] = z / R[k, k]\n",
    "    return Q, R\n",
    "\n",
    "Q,R = classical_gram_schmidt(A)\n",
    "print(A)\n",
    "print(Q @ R)\n",
    "\n",
    "def modified_gram_schmidt(A):\n",
    "            '''\n",
    "    Implements modified Gram-Schmidt process: https://web.mst.edu/hilgers/classes/CS328/notes/modgs/node2.html\n",
    "\n",
    "    Inputs\n",
    "        A: numpy.ndarray of shape (M, N)\n",
    "    \n",
    "    Outputs\n",
    "        Q: numpy.ndarray of shape (M, N)\n",
    "        R: numpy.ndarray of shape (N, N)\n",
    "    '''\n",
    "    A = np.array(A, dtype=np.float64)\n",
    "    m, n = A.shape\n",
    "    R = np.zeros((n, n))\n",
    "    Q = np.empty((m, n))\n",
    "    R[0, 0] = linalg.norm(A[:, 0])\n",
    "    Q[:, 0] = A[:, 0] / R[0, 0]\n",
    "    for k in range(1,n):\n",
    "        R[k, k] = linalg.norm(A[:, k]) \n",
    "        Q[:, k] = A[:, k] / R[k, k]\n",
    "        for j in range(k+1,n):\n",
    "            R[k, j] = Q[:, k].T @ A[:, j]\n",
    "            A[:, j] = A[:, j] - Q[:, k]*R[k, j]\n",
    "    return Q, R\n",
    "\n",
    "Qm,Rm = modified_gram_schmidt(A)\n",
    "\n",
    "\n",
    "print(Qm @ Rm)\n",
    "print(Q) \n",
    "print(Qm) \n",
    "print(R)\n",
    "print(Rm)"
   ]
  },
  {
   "cell_type": "markdown",
   "id": "a337d211-e9b2-4157-9d85-a3635efb3431",
   "metadata": {},
   "source": [
    "## (b) (a+b 3.5 pts)\n",
    "Let $H$ be a Hilbert matrix of size $n$ (see Computer Problem 2.6). Study the quality of the QR decompositions obtained using the two methods of part (a), specifically the loss of orthogonality. In order to do so, plot the quantity $\\| I - Q^T Q \\|$ as a function of $n$ on a log scale. Vary $n$ from $2$ to $12$.\n",
    "\n",
    "\n"
   ]
  },
  {
   "cell_type": "code",
   "execution_count": 3,
   "id": "cff553c1-4044-4683-9555-f8a0f741f66e",
   "metadata": {},
   "outputs": [
    {
     "data": {
      "image/png": "[encoded data removed]",
      "text/plain": [
       "<Figure size 720x432 with 1 Axes>"
      ]
     },
     "metadata": {
      "needs_background": "light"
     },
     "output_type": "display_data"
    }
   ],
   "source": [
    "def Hilbert(n):\n",
    "    Hil = np.zeros((n,n))\n",
    "    for i in range(n):\n",
    "        for j in range(n):\n",
    "            Hil[i][j] = 1/(i+j+1)\n",
    "    return Hil\n",
    "def test_hil(n, method):\n",
    "    A = Hilbert(n)\n",
    "    Q,R = method(np.array(A))\n",
    "    e = np.identity(n) - np.matmul(Q.T,Q)\n",
    "    X = np.linalg.norm(e , ord =1)\n",
    "    return X\n",
    "loss_mod = []\n",
    "loss_cls = []\n",
    "test_range = range(2,12)\n",
    "for i in test_range:\n",
    "    loss_mod.append(test_hil(i, modified_gram_schmidt))\n",
    "    loss_cls.append(test_hil(i, classical_gram_schmidt))\n",
    "\n",
    "plt.figure(figsize=(10, 6))\n",
    "plt.loglog(test_range,loss_mod, label=\"modified Gram-Schmidt\")\n",
    "plt.loglog(test_range,loss_cls, label=\"classical Gram-Schmidt\")\n",
    "plt.xlabel('n')\n",
    "plt.ylabel('loss of orthogonality')\n",
    "plt.legend()\n",
    "plt.show()"
   ]
  },
  {
   "cell_type": "markdown",
   "id": "f2d6cf46-3796-405b-ab46-bc9575a5f648",
   "metadata": {},
   "source": [
    "## (c) (1.5 pts)\n",
    "Try applying the classical procedure twice. Plot again the loss of orthogonality when computing the QR decomposition of the Hilbert matrix of size $n$ as in (b).\n"
   ]
  },
  {
   "cell_type": "code",
   "execution_count": 13,
   "id": "b4574283-5b0e-4f54-a0e4-727a9246db7e",
   "metadata": {},
   "outputs": [
    {
     "data": {
      "image/png": "[encoded data removed]",
      "text/plain": [
       "<Figure size 720x432 with 1 Axes>"
      ]
     },
     "metadata": {
      "needs_background": "light"
     },
     "output_type": "display_data"
    }
   ],
   "source": [
    "def test_hil2(n, method):\n",
    "    A = Hilbert(n)\n",
    "    Q,R = method(np.array(A))\n",
    "    Q2,R2 = method(np.array(Q,dtype = np.float64))\n",
    "    e = np.identity(n) - np.matmul(Q2.T,Q2)\n",
    "    X = np.linalg.norm(e , ord =1)\n",
    "    return X\n",
    "\n",
    "loss_cls2 = []\n",
    "test_range = range(2,12)\n",
    "for i in test_range:\n",
    "    loss_cls2.append(test_hil2(i, classical_gram_schmidt))\n",
    "\n",
    "plt.figure(figsize=(10, 6))\n",
    "plt.loglog(test_range,loss_cls2, label=\"double classical Gram-Schmidt\")\n",
    "plt.loglog(test_range,loss_cls, label=\"classical Gram-Schmidt\")\n",
    "\n",
    "plt.xlabel('n')\n",
    "plt.ylabel('loss of orthogonality')\n",
    "plt.legend()\n",
    "plt.show()\n",
    "\n"
   ]
  },
  {
   "cell_type": "markdown",
   "id": "d61d724c-3216-4742-9c8c-f411ad437193",
   "metadata": {},
   "source": [
    "## (d) (2 pts)\n",
    "Implement the Householder method for computing the QR decomposition. Remember to include a short documentation."
   ]
  },
  {
   "cell_type": "code",
   "execution_count": 5,
   "id": "a5fa9b4f-4a69-4dcf-bee4-23e67746ed06",
   "metadata": {},
   "outputs": [
    {
     "ename": "SyntaxError",
     "evalue": "unexpected EOF while parsing (<ipython-input-5-e838bb6dcf47>, line 2)",
     "output_type": "error",
     "traceback": [
      "\u001b[0;36m  File \u001b[0;32m\"<ipython-input-5-e838bb6dcf47>\"\u001b[0;36m, line \u001b[0;32m2\u001b[0m\n\u001b[0;31m    # YOUR CODE HERE\u001b[0m\n\u001b[0m                    ^\u001b[0m\n\u001b[0;31mSyntaxError\u001b[0m\u001b[0;31m:\u001b[0m unexpected EOF while parsing\n"
     ]
    }
   ],
   "source": [
    "def householder_qr(A):\n",
    "    # YOUR CODE HERE\n",
    "    \n",
    "    \n",
    "    \n",
    "    "
   ]
  },
  {
   "cell_type": "markdown",
   "id": "35df642d-7348-407a-9755-b8ac03045541",
   "metadata": {},
   "source": [
    "## (e) (2 pts)\n",
    "Perform the analysis of (b) for the Householder method. Discuss the differences between all the methods you have tested so far. Look online and/or in books for information about the accuracy of the different methods and include this in your explanations (with reference).\n"
   ]
  },
  {
   "cell_type": "code",
   "execution_count": null,
   "id": "eb790bfb-2f80-4630-aeb6-30ff0b604cc7",
   "metadata": {},
   "outputs": [],
   "source": [
    "# YOUR CODE HERE"
   ]
  },
  {
   "cell_type": "markdown",
   "id": "b59a127c-1f5f-4122-927c-20b0e90c5cb4",
   "metadata": {},
   "source": []
  },
  {
   "cell_type": "code",
   "execution_count": null,
   "id": "93b0db7a-3c04-4312-8125-58d10d80a8d5",
   "metadata": {},
   "outputs": [],
   "source": []
  }
 ],
 "metadata": {
  "kernelspec": {
   "display_name": "Python 3",
   "language": "python",
   "name": "python3"
  },
  "language_info": {
   "codemirror_mode": {
    "name": "ipython",
    "version": 3
   },
   "file_extension": ".py",
   "mimetype": "text/x-python",
   "name": "python",
   "nbconvert_exporter": "python",
   "pygments_lexer": "ipython3",
   "version": "3.8.8"
  }
 },
 "nbformat": 4,
 "nbformat_minor": 5
}
