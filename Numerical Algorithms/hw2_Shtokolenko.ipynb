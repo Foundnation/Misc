{
 "cells": [
  {
   "cell_type": "markdown",
   "id": "2eb3dc99-7e74-4a77-a6a6-0978b398c7b0",
   "metadata": {
    "nbgrader": {
     "grade": false,
     "grade_id": "cell-06d3e5bf55c941ae",
     "locked": true,
     "schema_version": 3,
     "solution": false,
     "task": false
    }
   },
   "source": [
    "# Homework set 2"
   ]
  },
  {
   "cell_type": "markdown",
   "id": "07b46464-4b8c-48f6-b6bb-5c85792c5081",
   "metadata": {
    "nbgrader": {
     "grade": false,
     "grade_id": "cell-736ff6bc3e0d0696",
     "locked": true,
     "schema_version": 3,
     "solution": false,
     "task": false
    }
   },
   "source": [
    "Please **submit this Jupyter notebook through Canvas** no later than **Mon Nov. 14, 9:00**. **Submit the notebook file with your answers (as .ipynb file) and a pdf printout. The pdf version can be used by the teachers to provide feedback. A pdf version can be made using the save and export option in the Jupyter Lab file menu.**\n",
    "\n",
    "Homework is in **groups of two**, and you are expected to hand in original work. Work that is copied from another group will not be accepted."
   ]
  },
  {
   "cell_type": "markdown",
   "id": "1b87202b-2fd1-4ec7-a28c-9f983e32b623",
   "metadata": {
    "nbgrader": {
     "grade": false,
     "grade_id": "cell-b13bc5ed16bce8e0",
     "locked": true,
     "schema_version": 3,
     "solution": false,
     "task": false
    }
   },
   "source": [
    "# Exercise 0\n",
    "Write down the names + student ID of the people in your group."
   ]
  },
  {
   "cell_type": "markdown",
   "id": "5ddfd8b6-4006-4149-827d-fd3ef7457239",
   "metadata": {},
   "source": []
  },
  {
   "cell_type": "markdown",
   "id": "cea87535-efbc-4a7c-8ff1-dfda608dd0d6",
   "metadata": {
    "nbgrader": {
     "grade": false,
     "grade_id": "cell-b5a7855ecca9f6be",
     "locked": true,
     "schema_version": 3,
     "solution": false,
     "task": false
    }
   },
   "source": [
    "Run the following cell to import some packages, add additional packages yourself when needed."
   ]
  },
  {
   "cell_type": "code",
   "execution_count": 1,
   "id": "563ef9dc-79ef-4b36-a8b5-d64f7a922ba0",
   "metadata": {},
   "outputs": [],
   "source": [
    "import numpy as np\n",
    "import matplotlib.pyplot as plt"
   ]
  },
  {
   "cell_type": "markdown",
   "id": "26a26b9c-d8db-4bdb-a11d-63bddfd889d8",
   "metadata": {},
   "source": [
    "# Exercise 1"
   ]
  },
  {
   "cell_type": "markdown",
   "id": "b74868be-8e8d-4ecc-aae3-b56fcaee7994",
   "metadata": {},
   "source": [
    "## (a) 1 point\n",
    "Let $A$ be the matrix $\\begin{bmatrix} 1 & -1 & \\alpha \\\\ 2 & 2 & 1 \\\\ 0 & \\alpha & -3/2 \\end{bmatrix}$. For which values of $\\alpha$ is $A$ singular?"
   ]
  },
  {
   "cell_type": "markdown",
   "id": "2ec1b49a-bc37-459e-8a51-c384445208f0",
   "metadata": {},
   "source": [
    "YOUR ANSWER HERE"
   ]
  },
  {
   "cell_type": "markdown",
   "id": "dc9baa5c-c98f-401c-bb2d-2f1a8e55077c",
   "metadata": {},
   "source": [
    "## (b) 1 point\n",
    "For the largest value of $\\alpha$ you found above, find a nonzero vector $b$ such that $Ax = b$ has infinitely many solutions. Explain your answer."
   ]
  },
  {
   "cell_type": "markdown",
   "id": "bfd3120b-8a20-4659-bb2f-bfe6246c66f1",
   "metadata": {},
   "source": [
    "YOUR ANSWER HERE"
   ]
  },
  {
   "cell_type": "markdown",
   "id": "dfdbdbe1-cc0c-438e-bfb6-30f1e855726e",
   "metadata": {},
   "source": [
    "# Exercise 2"
   ]
  },
  {
   "cell_type": "markdown",
   "id": "0cff19ca-5a93-4219-913b-d6a4b21e240d",
   "metadata": {},
   "source": [
    "For solving linear systems such as $Ax = b$, it is unnecessary (and often unstable) to compute the inverse $A^{-1}$. Nonetheless, there can be situations where it is useful to compute $A^{-1}$ explicitly. One way to do so is by using the LU-decomposition of $A$."
   ]
  },
  {
   "cell_type": "markdown",
   "id": "1dcdc8b0-162d-4fb7-808d-0100dce86d90",
   "metadata": {},
   "source": [
    "## (a) 2 points\n",
    "Write an algorithm to compute $A^{-1}$ for a non-singular matrix $A$ using its LU-decomposition. You can use `scipy.linalg.lu` (which returns an LU-decomposition with _partial pivoting_, i.e., with a permutation matrix $P$) and the other `scipy.linalg.lu_*` functions, but not `scipy.linalg.inv` (or other methods for computing matrix inverses directly).\n",
    "\n",
    "(Make sure to import the necessary functions/packages.)"
   ]
  },
  {
   "cell_type": "code",
   "execution_count": 163,
   "id": "8b355f0f-a648-48f4-9f6f-5d27fd10ca2b",
   "metadata": {
    "nbgrader": {
     "cell_type": "code",
     "checksum": "b011ebd554ea10da4a53655bdadd6383",
     "grade": true,
     "grade_id": "cell-6f892d33e776e31f",
     "locked": false,
     "points": 2,
     "schema_version": 3,
     "solution": true,
     "task": false
    }
   },
   "outputs": [
    {
     "name": "stdout",
     "output_type": "stream",
     "text": [
      "[[1 2 2 3 0 3 3 1]\n",
      " [1 0 2 3 3 0 2 2]\n",
      " [2 3 3 1 3 0 3 2]\n",
      " [2 1 3 2 2 1 1 2]\n",
      " [0 1 3 2 2 3 2 0]\n",
      " [1 2 0 0 2 3 2 2]\n",
      " [2 3 3 0 3 0 1 3]\n",
      " [0 1 3 2 3 0 2 2]] \n",
      "\n",
      "[[ 0.34302326  0.48837209 -0.06104651 -0.15406977  0.01453488  0.05232558\n",
      "  -0.2877907  -0.38953488]\n",
      " [-0.5        -1.5         0.5         0.5         1.         -0.5\n",
      "   1.5        -1.        ]\n",
      " [ 0.27325581  0.87209302 -0.17151163 -0.19476744 -0.84011628  0.0755814\n",
      "  -0.66569767  0.71511628]\n",
      " [-0.56976744 -1.11627907  0.38953488  0.45930233  1.14534884 -0.47674419\n",
      "   1.12209302 -0.89534884]\n",
      " [-0.16860465 -0.69767442  0.4622093  -0.11918605  0.74709302 -0.11046512\n",
      "   0.60755814 -0.62209302]\n",
      " [-0.11046512  0.23255814  0.09593023 -0.04360465 -0.16569767  0.20348837\n",
      "  -0.11918605  0.04069767]\n",
      " [ 0.74418605  0.90697674 -0.48837209 -0.23255814 -0.88372093  0.41860465\n",
      "  -1.30232558  0.88372093]\n",
      " [-0.08139535  0.69767442 -0.5872093  -0.00581395 -0.62209302  0.36046512\n",
      "  -0.48255814  0.87209302]] \n",
      "\n",
      "[[-0.15406977  0.01453488  0.34302326  0.48837209 -0.06104651  0.05232558\n",
      "  -0.2877907  -0.38953488]\n",
      " [ 0.5         1.         -0.5        -1.5         0.5        -0.5\n",
      "   1.5        -1.        ]\n",
      " [-0.19476744 -0.84011628  0.27325581  0.87209302 -0.17151163  0.0755814\n",
      "  -0.66569767  0.71511628]\n",
      " [ 0.45930233  1.14534884 -0.56976744 -1.11627907  0.38953488 -0.47674419\n",
      "   1.12209302 -0.89534884]\n",
      " [-0.11918605  0.74709302 -0.16860465 -0.69767442  0.4622093  -0.11046512\n",
      "   0.60755814 -0.62209302]\n",
      " [-0.04360465 -0.16569767 -0.11046512  0.23255814  0.09593023  0.20348837\n",
      "  -0.11918605  0.04069767]\n",
      " [-0.23255814 -0.88372093  0.74418605  0.90697674 -0.48837209  0.41860465\n",
      "  -1.30232558  0.88372093]\n",
      " [-0.00581395 -0.62209302 -0.08139535  0.69767442 -0.5872093   0.36046512\n",
      "  -0.48255814  0.87209302]] \n",
      "\n",
      "[[ 0.  0.  0.  1. -0.  0. -0.  0.]\n",
      " [-0.  0.  0.  0.  1.  0.  0.  0.]\n",
      " [ 1.  0.  0.  0. -0. -0.  0.  0.]\n",
      " [-0.  1. -0.  0. -0. -0.  0.  0.]\n",
      " [ 0. -0.  1.  0.  0.  0.  0.  0.]\n",
      " [-0.  0.  0. -0. -0.  1.  0.  0.]\n",
      " [-0.  0.  0. -0.  0. -0.  1.  0.]\n",
      " [ 0. -0.  0.  0.  0.  0.  0.  1.]] \n",
      "\n",
      "[[ 1.  0. -0. -0. -0. -0.  0.  0.]\n",
      " [ 0.  1. -0. -0.  0. -0.  0. -0.]\n",
      " [ 0.  0.  1. -0. -0.  0.  0. -0.]\n",
      " [ 0.  0. -0.  1.  0. -0.  0. -0.]\n",
      " [ 0.  0. -0. -0.  1. -0.  0. -0.]\n",
      " [ 0. -0. -0. -0. -0.  1.  0.  0.]\n",
      " [ 0.  0. -0. -0. -0. -0.  1.  0.]\n",
      " [ 0.  0. -0. -0.  0. -0.  0.  1.]]\n"
     ]
    }
   ],
   "source": [
    "import scipy as sp\n",
    "import scipy.linalg as sla\n",
    "\n",
    "def gaussElim(a,b):\n",
    "    n = len(b)\n",
    "    # Elimination phase\n",
    "    for k in range(0,n-1):\n",
    "        for i in range(k+1,n):\n",
    "            if a[i,k] != 0.0:\n",
    "                #if not null define λ\n",
    "                lam = a [i,k]/a[k,k]\n",
    "                #we calculate the new row of the matrix\n",
    "                a[i,k+1:n] = a[i,k+1:n] - lam*a[k,k+1:n]\n",
    "                #we update vector b\n",
    "                b[i] = b[i] - lam*b[k]\n",
    "                # backward substitution\n",
    "    for k in range(n-1,-1,-1):\n",
    "        b[k] = (b[k] - np.dot(a[k,k+1:n],b[k+1:n]))/a[k,k]\n",
    "    \n",
    "    return b\n",
    "\n",
    "\n",
    "def invert(A):\n",
    "    '''invert the matrix A'''\n",
    "    n = len(A)\n",
    "    \n",
    "    temp = sla.lu(A)\n",
    "    L, U = temp[1], temp[2]\n",
    "    \n",
    "    I = np.identity(n)\n",
    "    \n",
    "    res = []\n",
    "    for i in range(n):\n",
    "        d = sla.solve(L, I[i])\n",
    "        d.shape = (n, 1)\n",
    "        if i == 0:\n",
    "            res = sla.solve(U, d)\n",
    "        else:\n",
    "            res = np.hstack((res, sla.solve(U, d)))\n",
    "        \n",
    "    return  res\n",
    "\n",
    "M = [[1, 2, 0, 1, 0], [1, 1, 0, 1, 1], [0, 1, 1, 0, 0], [2, 3, 0, 1, 4], [1, 1, 0, 1, 3]]\n",
    "\n",
    "M = np.random.randint(4, size=(8,8))\n",
    "\n",
    "print(np.array(M), '\\n')\n",
    "print(invert(M), '\\n')\n",
    "print(sla.inv(M), '\\n')\n",
    "\n",
    "print(np.matmul(M, invert(M)).round(1), '\\n')\n",
    "print(np.matmul(M, sla.inv(M)).round(1))"
   ]
  },
  {
   "cell_type": "markdown",
   "id": "e0710df6-58f3-42f9-b467-10eb45c38b5e",
   "metadata": {},
   "source": [
    "## (b) 1 point\n",
    "What is the computational complexity of your algorithm, given that the input matrix has size $n \\times n$?\n",
    "Give a short calculation/explanation for your answer."
   ]
  },
  {
   "cell_type": "markdown",
   "id": "f127ab7c-e03f-4bcd-9ba7-56acb94518de",
   "metadata": {
    "nbgrader": {
     "cell_type": "markdown",
     "checksum": "2dd9d0b893218b8e70d7a0a66f09e514",
     "grade": true,
     "grade_id": "cell-a15cf95231b8aa77",
     "locked": false,
     "points": 1,
     "schema_version": 3,
     "solution": true,
     "task": false
    }
   },
   "source": [
    "YOUR ANSWER HERE"
   ]
  },
  {
   "cell_type": "markdown",
   "id": "568578e4-715e-4b37-a8b7-ac2d39648805",
   "metadata": {},
   "source": [
    "# Exercise 3"
   ]
  },
  {
   "cell_type": "markdown",
   "id": "1e33e8dd-7e6b-4dcd-ba6a-ba606c620708",
   "metadata": {},
   "source": [
    "## (a) (2 points) \n",
    "What happens when Gaussian elimination with partial pivoting is used on a matrix of the following form?\n",
    "$$\n",
    "  \\begin{bmatrix}\n",
    "     1 &  0 &  0 &  0 &  1 \\\\\n",
    "    -1 &  1 &  0 &  0 &  1 \\\\\n",
    "    -1 & -1 &  1 &  0 &  1 \\\\\n",
    "    -1 & -1 & -1 &  1 &  1 \\\\\n",
    "    -1 & -1 & -1 & -1 &  1 \n",
    "  \\end{bmatrix}\n",
    "$$\n",
    "Do the entries of the transformed matrix grow? What happens if complete pivoting is used instead? (Note that part (a) does not require a computer.)\n"
   ]
  },
  {
   "cell_type": "markdown",
   "id": "8b94eff9-22b6-4e4e-8029-852543e2a155",
   "metadata": {},
   "source": [
    "YOUR ANSWER HERE"
   ]
  },
  {
   "cell_type": "markdown",
   "id": "3bccc007-74d6-4488-a1bb-0bf038cd8027",
   "metadata": {},
   "source": [
    "## (b) (2 points)\n",
    "Write a method that generates a matrix of the form of part (a) of size $n \\times n$ for any $n$. Use a library routine for Gaussian elimination with partial pivoting to solve various sizes of linear systems of this form, using right-hand-side vectors chosen so that the solution is known. Try for example the case where the true solution is a vector of uniformly distributed random numbers between 0 and 1. How do the error, residual, and condition number behave as the systems become larger? Comment on the stability (see chapter 1) of Gaussian elimination with partial pivoting in this case.\n",
    "\n",
    "N.B. This is an artificially contrived system that does not reflect the behavior of Gaussian elimination in realistic examples."
   ]
  },
  {
   "cell_type": "code",
   "execution_count": 172,
   "id": "3790cc3a-e127-478a-82b8-77947bf693a5",
   "metadata": {},
   "outputs": [],
   "source": [
    "import numpy as np\n",
    "\n",
    "def gen(n):\n",
    "    M = np.zeros((n,n))\n",
    "    for i in range(n):\n",
    "        for j in range(n):\n",
    "            if j < i:\n",
    "                M[i][j] = -1\n",
    "            elif j == i or j == n-1:\n",
    "                M[i][j] = 1\n",
    "    return M"
   ]
  },
  {
   "cell_type": "code",
   "execution_count": 174,
   "id": "e3cdcee3",
   "metadata": {},
   "outputs": [
    {
     "name": "stdout",
     "output_type": "stream",
     "text": [
      "[[ 1.  0.  0.  0.  1.]\n",
      " [-1.  1.  0.  0.  1.]\n",
      " [-1. -1.  1.  0.  1.]\n",
      " [-1. -1. -1.  1.  1.]\n",
      " [-1. -1. -1. -1.  1.]]\n"
     ]
    }
   ],
   "source": [
    "print(gen(5))"
   ]
  },
  {
   "cell_type": "code",
   "execution_count": null,
   "id": "0e4e63e0",
   "metadata": {},
   "outputs": [],
   "source": [
    "def gaussElim(a,b):\n",
    "    n = len(b)\n",
    "    # Elimination phase\n",
    "    for k in range(0,n-1):\n",
    "        for i in range(k+1,n):\n",
    "            if a[i,k] != 0.0:\n",
    "                #if not null define λ\n",
    "                lam = a [i,k]/a[k,k]\n",
    "                #we calculate the new row of the matrix\n",
    "                a[i,k+1:n] = a[i,k+1:n] - lam*a[k,k+1:n]\n",
    "                #we update vector b\n",
    "                b[i] = b[i] - lam*b[k]\n",
    "                # backward substitution\n",
    "    for k in range(n-1,-1,-1):\n",
    "        b[k] = (b[k] - np.dot(a[k,k+1:n],b[k+1:n]))/a[k,k]\n",
    "    \n",
    "    return b"
   ]
  },
  {
   "cell_type": "code",
   "execution_count": 181,
   "id": "ef79e7e2",
   "metadata": {},
   "outputs": [
    {
     "name": "stdout",
     "output_type": "stream",
     "text": [
      "[-1  3  2]\n",
      "[-0.33333333  2.66666667 -0.66666667]\n"
     ]
    }
   ],
   "source": [
    "A = np.array([[1, 0, 1], [1, 1, 0], [0, 1, 0]])\n",
    "b = np.array([1, 2, 3])\n",
    "print(gaussElim(A, b))\n",
    "print(sla.solve(A, b))\n"
   ]
  },
  {
   "cell_type": "code",
   "execution_count": null,
   "id": "cb5cb6e4",
   "metadata": {},
   "outputs": [],
   "source": []
  }
 ],
 "metadata": {
  "kernelspec": {
   "display_name": "Python 3 (ipykernel)",
   "language": "python",
   "name": "python3"
  },
  "language_info": {
   "codemirror_mode": {
    "name": "ipython",
    "version": 3
   },
   "file_extension": ".py",
   "mimetype": "text/x-python",
   "name": "python",
   "nbconvert_exporter": "python",
   "pygments_lexer": "ipython3",
   "version": "3.9.12"
  }
 },
 "nbformat": 4,
 "nbformat_minor": 5
}
