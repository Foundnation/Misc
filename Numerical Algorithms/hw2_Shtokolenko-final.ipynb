{
 "cells": [
  {
   "cell_type": "markdown",
   "id": "2eb3dc99-7e74-4a77-a6a6-0978b398c7b0",
   "metadata": {
    "nbgrader": {
     "grade": false,
     "grade_id": "cell-06d3e5bf55c941ae",
     "locked": true,
     "schema_version": 3,
     "solution": false,
     "task": false
    }
   },
   "source": [
    "# Homework set 2"
   ]
  },
  {
   "cell_type": "markdown",
   "id": "07b46464-4b8c-48f6-b6bb-5c85792c5081",
   "metadata": {
    "nbgrader": {
     "grade": false,
     "grade_id": "cell-736ff6bc3e0d0696",
     "locked": true,
     "schema_version": 3,
     "solution": false,
     "task": false
    }
   },
   "source": [
    "Please **submit this Jupyter notebook through Canvas** no later than **Mon Nov. 14, 9:00**. **Submit the notebook file with your answers (as .ipynb file) and a pdf printout. The pdf version can be used by the teachers to provide feedback. A pdf version can be made using the save and export option in the Jupyter Lab file menu.**\n",
    "\n",
    "Homework is in **groups of two**, and you are expected to hand in original work. Work that is copied from another group will not be accepted."
   ]
  },
  {
   "cell_type": "markdown",
   "id": "1b87202b-2fd1-4ec7-a28c-9f983e32b623",
   "metadata": {
    "nbgrader": {
     "grade": false,
     "grade_id": "cell-b13bc5ed16bce8e0",
     "locked": true,
     "schema_version": 3,
     "solution": false,
     "task": false
    }
   },
   "source": [
    "# Exercise 0\n",
    "Write down the names + student ID of the people in your group."
   ]
  },
  {
   "cell_type": "markdown",
   "id": "5ddfd8b6-4006-4149-827d-fd3ef7457239",
   "metadata": {},
   "source": []
  },
  {
   "cell_type": "markdown",
   "id": "cea87535-efbc-4a7c-8ff1-dfda608dd0d6",
   "metadata": {
    "nbgrader": {
     "grade": false,
     "grade_id": "cell-b5a7855ecca9f6be",
     "locked": true,
     "schema_version": 3,
     "solution": false,
     "task": false
    }
   },
   "source": [
    "Run the following cell to import some packages, add additional packages yourself when needed."
   ]
  },
  {
   "cell_type": "code",
   "execution_count": 1,
   "id": "563ef9dc-79ef-4b36-a8b5-d64f7a922ba0",
   "metadata": {},
   "outputs": [],
   "source": [
    "import numpy as np\n",
    "import matplotlib.pyplot as plt"
   ]
  },
  {
   "cell_type": "markdown",
   "id": "26a26b9c-d8db-4bdb-a11d-63bddfd889d8",
   "metadata": {},
   "source": [
    "# Exercise 1"
   ]
  },
  {
   "cell_type": "markdown",
   "id": "b74868be-8e8d-4ecc-aae3-b56fcaee7994",
   "metadata": {},
   "source": [
    "## (a) 1 point\n",
    "Let $A$ be the matrix $\\begin{bmatrix} 1 & -1 & \\alpha \\\\ 2 & 2 & 1 \\\\ 0 & \\alpha & -3/2 \\end{bmatrix}$. For which values of $\\alpha$ is $A$ singular?"
   ]
  },
  {
   "cell_type": "markdown",
   "id": "2ec1b49a-bc37-459e-8a51-c384445208f0",
   "metadata": {},
   "source": [
    "det(A) = -3 + 2 $\\alpha^2$  - $\\alpha$ - 3 = 2 $\\alpha^2$  - $\\alpha$ - 6\n",
    "\n",
    "\n",
    "det(A) = 0 <=> $\\alpha$ = 2 or $\\alpha$ = -1.5"
   ]
  },
  {
   "cell_type": "markdown",
   "id": "dc9baa5c-c98f-401c-bb2d-2f1a8e55077c",
   "metadata": {},
   "source": [
    "## (b) 1 point\n",
    "For the largest value of $\\alpha$ you found above, find a nonzero vector $b$ such that $Ax = b$ has infinitely many solutions. Explain your answer."
   ]
  },
  {
   "cell_type": "markdown",
   "id": "bfd3120b-8a20-4659-bb2f-bfe6246c66f1",
   "metadata": {},
   "source": [
    "$\\begin{bmatrix} 1 & -1 & 2 \\\\ 2 & 2 & 1 \\\\ 0 & 2& -3/2 \\end{bmatrix}$\n",
    "\n",
    "$Ax = b$ has infinitely many solutions if b ∈ span(A), therefore b can be equal to any linear combination o vectors   $\\begin{bmatrix}1 \\\\ 2 \\\\ 0\\end{bmatrix}$ and $\\begin{bmatrix}-1 \\\\ 2 \\\\ 2\\end{bmatrix}$ and $\\begin{bmatrix} 0 \\\\ 2 \\\\ -3/2\\end{bmatrix}$ for example  $\\begin{bmatrix}1 \\\\ 2 \\\\ 0\\end{bmatrix}$ or  $\\begin{bmatrix}0 \\\\ 4 \\\\ 2\\end{bmatrix}$"
   ]
  },
  {
   "cell_type": "markdown",
   "id": "dfdbdbe1-cc0c-438e-bfb6-30f1e855726e",
   "metadata": {},
   "source": [
    "# Exercise 2"
   ]
  },
  {
   "cell_type": "markdown",
   "id": "0cff19ca-5a93-4219-913b-d6a4b21e240d",
   "metadata": {},
   "source": [
    "For solving linear systems such as $Ax = b$, it is unnecessary (and often unstable) to compute the inverse $A^{-1}$. Nonetheless, there can be situations where it is useful to compute $A^{-1}$ explicitly. One way to do so is by using the LU-decomposition of $A$."
   ]
  },
  {
   "cell_type": "markdown",
   "id": "1dcdc8b0-162d-4fb7-808d-0100dce86d90",
   "metadata": {},
   "source": [
    "## (a) 2 points\n",
    "Write an algorithm to compute $A^{-1}$ for a non-singular matrix $A$ using its LU-decomposition. You can use `scipy.linalg.lu` (which returns an LU-decomposition with _partial pivoting_, i.e., with a permutation matrix $P$) and the other `scipy.linalg.lu_*` functions, but not `scipy.linalg.inv` (or other methods for computing matrix inverses directly).\n",
    "\n",
    "(Make sure to import the necessary functions/packages.)"
   ]
  },
  {
   "cell_type": "code",
   "execution_count": 8,
   "id": "8b355f0f-a648-48f4-9f6f-5d27fd10ca2b",
   "metadata": {
    "nbgrader": {
     "cell_type": "code",
     "checksum": "b011ebd554ea10da4a53655bdadd6383",
     "grade": true,
     "grade_id": "cell-6f892d33e776e31f",
     "locked": false,
     "points": 2,
     "schema_version": 3,
     "solution": true,
     "task": false
    }
   },
   "outputs": [
    {
     "name": "stdout",
     "output_type": "stream",
     "text": [
      "A = \n",
      " [[2 1 1 1 0 2]\n",
      " [2 1 1 1 0 3]\n",
      " [1 1 2 0 2 2]\n",
      " [1 2 0 3 0 1]\n",
      " [1 2 0 3 3 2]\n",
      " [1 0 0 1 2 2]] \n",
      "\n",
      "A^-1 = \n",
      " [[ 1.75       -0.75       -0.5        -0.75        0.5        -0.25      ]\n",
      " [ 0.25        0.75       -0.5        -1.25        1.5        -1.75      ]\n",
      " [-0.33333333 -0.66666667  1.          1.33333333 -1.33333333  1.        ]\n",
      " [-0.41666667 -0.58333333  0.5         1.41666667 -1.16666667  1.25      ]\n",
      " [ 0.33333333 -0.33333333  0.         -0.33333333  0.33333333  0.        ]\n",
      " [-1.          1.          0.          0.          0.          0.        ]] \n",
      "\n",
      "A * A^-1 = \n",
      " [[ 1. -0.  0.  0.  0.  0.]\n",
      " [ 0.  1.  0.  0.  0.  0.]\n",
      " [ 0.  0.  1. -0.  0. -0.]\n",
      " [ 0. -0.  0.  1. -0.  0.]\n",
      " [ 0. -0.  0.  0.  1.  0.]\n",
      " [ 0.  0. -0.  0.  0.  1.]] \n",
      "\n"
     ]
    }
   ],
   "source": [
    "import scipy as sp\n",
    "import scipy.linalg as sla\n",
    "import numpy as np\n",
    "\n",
    "def gaussElim(A,b):\n",
    "    n = len(b)                              # 1 operation\n",
    "    for k in range(0, n-1):                 # *n\n",
    "        for i in range(k+1, n):             # *n\n",
    "            if A[i,k] != 0.0:               # 1 operation\n",
    "                lam = A[i,k] / A[k,k]       # 2 \n",
    "                A[i, k+1:n] = A[i, k+1:n] - lam * A[k, k+1:n]   # 3\n",
    "                b[i] = b[i] - lam * b[k]    # 3 \n",
    "                \n",
    "    for k in range(n-1,-1,-1):              # *n-1\n",
    "        b[k] = (b[k] - np.dot(A[k,k+1:n], b[k+1:n])) / A[k,k]  # 2 + ~n\n",
    "    \n",
    "    return b                                # summary = 1 + n*n*(1 + 2 + 3 + 3) + (n-1)*(2 + n) = \n",
    "                                            #    = 1 + 9n^2 + n^2 + n - 2 \n",
    "                                            #            = 10n^2 + n - 1 \n",
    "\n",
    "def invert(A):\n",
    "    '''invert the matrix A'''\n",
    "    n = len(A)                            # 1\n",
    "      \n",
    "    temp = sla.lu(A)                      # N(sla.lu()) = ~2/3 * n^3\n",
    "    P, L, U = temp[0], temp[1], temp[2]   # 3\n",
    "    \n",
    "    I = np.identity(n)                    # 1 + N(np.identity()) = 1 + ~Cn\n",
    "    res = []                              # 1\n",
    "    for i in range(n):                    # *n\n",
    "        d = gaussElim(L, I[i])            # N(gaussElim()) = ~10n^2\n",
    "        d.shape = (n, 1)                  # N(d.shape()) = k1 < n^3 \n",
    "        if i == 0:                        # 1\n",
    "            res = gaussElim(U, d)         # ~10n^2 \n",
    "        else:\n",
    "            res = np.hstack((res, gaussElim(U, d))) # N(np.hstack()) = k2 < n^3\n",
    "    res = np.matmul(res, P.transpose())             # N(np.matmul()) + N(P.transpose()) = ~n^3 + ~n^2\n",
    "    return  res                                     # summary = 1 + 2n^3/3 + 3 + 1 + Cn + 1 + n(10n^2 + k1 +\n",
    "                                                    #    + 1 + 10n^2) + k2 + n^3 + n^2 = ~65n^3/3\n",
    "\n",
    "\n",
    "\n",
    "M = np.random.randint(4, size=(6,6))\n",
    "\n",
    "print('A = \\n' ,np.array(M), '\\n')\n",
    "print('A^-1 = \\n' ,invert(M), '\\n')\n",
    "print('A * A^-1 = \\n', np.matmul(M, invert(M)).round(1), '\\n')"
   ]
  },
  {
   "cell_type": "markdown",
   "id": "e0710df6-58f3-42f9-b467-10eb45c38b5e",
   "metadata": {},
   "source": [
    "## (b) 1 point\n",
    "What is the computational complexity of your algorithm, given that the input matrix has size $n \\times n$?\n",
    "Give a short calculation/explanation for your answer."
   ]
  },
  {
   "cell_type": "markdown",
   "id": "f127ab7c-e03f-4bcd-9ba7-56acb94518de",
   "metadata": {
    "nbgrader": {
     "cell_type": "markdown",
     "checksum": "2dd9d0b893218b8e70d7a0a66f09e514",
     "grade": true,
     "grade_id": "cell-a15cf95231b8aa77",
     "locked": false,
     "points": 1,
     "schema_version": 3,
     "solution": true,
     "task": false
    }
   },
   "source": [
    "As shown in the comments in the code for the previous excersise, estimation of the highest term in computational complexity is $ K n^{3} $. Computational complexity can depend on the exact implementation of used function from external libraries, but the estimation holds for assumtion that highest in their computational complexity asymtotically under $ K n^3 $."
   ]
  },
  {
   "cell_type": "markdown",
   "id": "568578e4-715e-4b37-a8b7-ac2d39648805",
   "metadata": {},
   "source": [
    "# Exercise 3"
   ]
  },
  {
   "cell_type": "markdown",
   "id": "1e33e8dd-7e6b-4dcd-ba6a-ba606c620708",
   "metadata": {},
   "source": [
    "## (a) (2 points) \n",
    "What happens when Gaussian elimination with partial pivoting is used on a matrix of the following form?\n",
    "$$\n",
    "  \\begin{bmatrix}\n",
    "     1 &  0 &  0 &  0 &  1 \\\\\n",
    "    -1 &  1 &  0 &  0 &  1 \\\\\n",
    "    -1 & -1 &  1 &  0 &  1 \\\\\n",
    "    -1 & -1 & -1 &  1 &  1 \\\\\n",
    "    -1 & -1 & -1 & -1 &  1 \n",
    "  \\end{bmatrix}\n",
    "$$\n",
    "Do the entries of the transformed matrix grow? What happens if complete pivoting is used instead? (Note that part (a) does not require a computer.)\n"
   ]
  },
  {
   "cell_type": "markdown",
   "id": "8b94eff9-22b6-4e4e-8029-852543e2a155",
   "metadata": {},
   "source": [
    "With partial pivoting elements of the last column of transformed matrix will grow linearly and as a result we get the largest element at i = j = n (bottom right element), which will increse condition number and. subsequently, error. With complete pivoting we are able to change the order of both rows and columns and, therefore, prevent the rapid rise of the matrix values by pivoting the column with the largest value. "
   ]
  },
  {
   "cell_type": "markdown",
   "id": "3bccc007-74d6-4488-a1bb-0bf038cd8027",
   "metadata": {},
   "source": [
    "## (b) (2 points)\n",
    "Write a method that generates a matrix of the form of part (a) of size $n \\times n$ for any $n$. Use a library routine for Gaussian elimination with partial pivoting to solve various sizes of linear systems of this form, using right-hand-side vectors chosen so that the solution is known. Try for example the case where the true solution is a vector of uniformly distributed random numbers between 0 and 1. How do the error, residual, and condition number behave as the systems become larger? Comment on the stability (see chapter 1) of Gaussian elimination with partial pivoting in this case.\n",
    "\n",
    "N.B. This is an artificially contrived system that does not reflect the behavior of Gaussian elimination in realistic examples."
   ]
  },
  {
   "cell_type": "code",
   "execution_count": 9,
   "id": "3790cc3a-e127-478a-82b8-77947bf693a5",
   "metadata": {},
   "outputs": [],
   "source": [
    "import numpy as np\n",
    "\n",
    "def gen(n):\n",
    "    M = np.zeros((n,n))\n",
    "    for i in range(n):\n",
    "        for j in range(n):\n",
    "            if j < i:\n",
    "                M[i][j] = -1\n",
    "            elif j == i or j == n-1:\n",
    "                M[i][j] = 1\n",
    "    return M\n",
    "\n",
    "def norm(M):\n",
    "    n = len(M)\n",
    "    col_sums = np.zeros(n)\n",
    "    for j in range(n):\n",
    "        for i in range(n):\n",
    "            col_sums[j] += abs(M[i][j])\n",
    "    \n",
    "    return np.max(col_sums)"
   ]
  },
  {
   "cell_type": "code",
   "execution_count": 13,
   "id": "cb5cb6e4",
   "metadata": {},
   "outputs": [
    {
     "name": "stdout",
     "output_type": "stream",
     "text": [
      "[[ 1.  0.  0.  0.  0.  1.]\n",
      " [-1.  1.  0.  0.  0.  1.]\n",
      " [-1. -1.  1.  0.  0.  1.]\n",
      " [-1. -1. -1.  1.  0.  1.]\n",
      " [-1. -1. -1. -1.  1.  1.]\n",
      " [-1. -1. -1. -1. -1.  1.]]\n"
     ]
    }
   ],
   "source": [
    "print(gen(6))\n"
   ]
  },
  {
   "cell_type": "code",
   "execution_count": 11,
   "id": "e8977b65",
   "metadata": {},
   "outputs": [
    {
     "name": "stdout",
     "output_type": "stream",
     "text": [
      "[1.1657341758564144e-14, 4.968729871990263e-10, 0.036550551334993076, 25.103256029133778, 344.66921312605166, 222.38122552140712, 466.2248452178545] \n",
      " [504.37672302724394, 25119269.885376386, 680821785686305.0, 9.250215104700181e+29, 4.968333674974381e+74, 2.370644754988045e+150, 1.8040117584998524e+300] \n",
      " [13695.21707571133, 6211668929239.232, 1.0116665137752627e+24, 9.244191688908703e+44, 6.193067695702254e+90, 6.533482551392107e+214, 6.930185918626241e+302]\n"
     ]
    },
    {
     "data": {
      "image/png": "[encoded data removed]",
      "text/plain": [
       "<Figure size 720x432 with 1 Axes>"
      ]
     },
     "metadata": {
      "needs_background": "light"
     },
     "output_type": "display_data"
    }
   ],
   "source": [
    "import numpy as np\n",
    "import scipy as sp\n",
    "import scipy.linalg as sla\n",
    "import matplotlib.pyplot as plt\n",
    "\n",
    "\n",
    "def compare(n):\n",
    "    trial = gen(n)\n",
    "    rand_sol = np.random.rand(n,1)\n",
    "    b = trial.dot(rand_sol)\n",
    "    gaus_sol = gaussElim(trial, b)\n",
    "    error = np.sum(np.abs(rand_sol - gaus_sol))\n",
    "    resid = np.sum(np.abs(b - trial.dot(gaus_sol)))\n",
    "    cond_num = np.linalg.cond(trial)\n",
    "    return error, resid, cond_num\n",
    "\n",
    "\n",
    "rand_sol = np.random.rand(9,1)\n",
    "A = np.array([[1, 0, 1], [1, 1, 0], [0, 1, 0]])\n",
    "b = np.array([1, 2, 3])\n",
    "\n",
    "    \n",
    "N_pow = [10, 25, 50, 10**2, 250, 500, 10**3]\n",
    "error = []\n",
    "resid = []\n",
    "cond_num = []\n",
    "for i in N_pow:\n",
    "    res = compare(i)\n",
    "    error.append(res[0])\n",
    "    resid.append(res[1])\n",
    "    cond_num.append(res[2])\n",
    "print(error, '\\n', resid, '\\n', cond_num)\n",
    "plt.figure(figsize=(10, 6))\n",
    "plt.loglog(N_pow, error)\n",
    "#plt.loglog(N_pow, resid)\n",
    "#plt.loglog(N_pow, cond_num)\n",
    "\n",
    "plt.xlabel('Matrix size (n)')\n",
    "plt.ylabel('Error')\n",
    "plt.show()"
   ]
  },
  {
   "cell_type": "markdown",
   "id": "79bd8f61",
   "metadata": {},
   "source": [
    "There is a rapid rise in error, residual and conditional number with Gaussian partial pivoting algorithm for the given matrix type. The method is highly unstable for this matrix type especially for residuals and conditional number which basically approach infinity for n=10^3. "
   ]
  },
  {
   "cell_type": "code",
   "execution_count": null,
   "id": "3ad4f2e8",
   "metadata": {},
   "outputs": [],
   "source": []
  }
 ],
 "metadata": {
  "kernelspec": {
   "display_name": "Python 3 (ipykernel)",
   "language": "python",
   "name": "python3"
  },
  "language_info": {
   "codemirror_mode": {
    "name": "ipython",
    "version": 3
   },
   "file_extension": ".py",
   "mimetype": "text/x-python",
   "name": "python",
   "nbconvert_exporter": "python",
   "pygments_lexer": "ipython3",
   "version": "3.9.12"
  }
 },
 "nbformat": 4,
 "nbformat_minor": 5
}
