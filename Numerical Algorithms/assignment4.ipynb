{
 "cells": [
  {
   "cell_type": "markdown",
   "id": "d4c81d3e-6c35-4c9e-9721-dc27a3d00251",
   "metadata": {
    "nbgrader": {
     "grade": false,
     "grade_id": "cell-06d3e5bf55c941ae",
     "locked": true,
     "schema_version": 3,
     "solution": false,
     "task": false
    },
    "tags": []
   },
   "source": [
    "# Homework set 4"
   ]
  },
  {
   "cell_type": "markdown",
   "id": "64728360-8bed-4d1f-bb87-bf746ea66002",
   "metadata": {
    "nbgrader": {
     "grade": false,
     "grade_id": "cell-736ff6bc3e0d0696",
     "locked": true,
     "schema_version": 3,
     "solution": false,
     "task": false
    }
   },
   "source": [
    "Before you turn this problem in, make sure everything runs as expected (in the menubar, select Kernel → Restart Kernel and Run All Cells...).\n",
    "\n",
    "Please **submit this Jupyter notebook through Canvas** no later than **Mon Nov. 28, 9:00**. **Submit the notebook file with your answers (as .ipynb file) and a pdf printout. The pdf version can be used by the teachers to provide feedback. A pdf version can be made using the save and export option in the Jupyter Lab file menu.**\n",
    "\n",
    "Homework is in **groups of two**, and you are expected to hand in original work. Work that is copied from another group will not be accepted."
   ]
  },
  {
   "cell_type": "markdown",
   "id": "d8c33491-f6d6-45df-9857-8fae1d7d446c",
   "metadata": {
    "nbgrader": {
     "grade": false,
     "grade_id": "cell-b13bc5ed16bce8e0",
     "locked": true,
     "schema_version": 3,
     "solution": false,
     "task": false
    }
   },
   "source": [
    "# Exercise 0\n",
    "Write down the names + student ID of the people in your group."
   ]
  },
  {
   "cell_type": "markdown",
   "id": "9483e0d9-7aec-4521-90ac-761fb34ee023",
   "metadata": {
    "nbgrader": {
     "grade": true,
     "grade_id": "cell-fd464f55ba436b1c",
     "locked": false,
     "points": 0,
     "schema_version": 3,
     "solution": true,
     "task": false
    }
   },
   "source": [
    "YOUR ANSWER HERE"
   ]
  },
  {
   "cell_type": "markdown",
   "id": "40a6166f-8dc2-4eb0-b953-961fe8f7a2ce",
   "metadata": {},
   "source": [
    "# About imports\n",
    "Please import the needed packages by yourself."
   ]
  },
  {
   "cell_type": "markdown",
   "id": "a78e262c-f192-4fe5-853b-03248173a9be",
   "metadata": {},
   "source": [
    "# Sparse matrices\n",
    "A _sparse matrix_ or _sparse array_ is a matrix in which most of the elements are zero. There is no strict definition how many elements need to be zero for a matrix to be considered sparse. In many examples, the number of nonzeros per row or column is a small fraction, a few percent or less, of the total number of elements of the row or column. By contrast, if most of the elements are nonzero, then the matrix is considered _dense_. \n",
    "\n",
    "In the context of software for scientific computing, a sparse matrix typically refers to a storage format, in which elements which are known to be zero are not stored. In Python, the library `scipy.sparse` defines several sparse matrix classes, such as `scipy.sparse.coo_matrix`. To construct such an object, one passes for each nonzero element the value, and the row and column coordinates. In some cases, one can also just pass the nonzero (off-)diagonals, see `scipy.sparse.diags`.\n",
    "\n",
    "Functions for dense matrices do not always work with sparse matrices. For example for the product of a sparse matrix with a (dense) vector, there is the member function `scipy.sparse.coo_matrix.dot`, and for solving linear equations involving a sparse matrix, there is the function `scipy.sparse.linalg.spsolve`."
   ]
  },
  {
   "cell_type": "code",
   "execution_count": 1,
   "id": "a15365c2-c8be-49b7-b74f-e6ef30ffd26d",
   "metadata": {},
   "outputs": [],
   "source": [
    "# Import some basic packages\n",
    "import numpy as np\n",
    "import matplotlib.pyplot as plt\n",
    "import math"
   ]
  },
  {
   "cell_type": "code",
   "execution_count": 2,
   "id": "5af47d5f-d55a-4902-b99c-9ce793726c32",
   "metadata": {},
   "outputs": [
    {
     "name": "stdout",
     "output_type": "stream",
     "text": [
      "When printing a sparse matrix, it shows its nonzero entries:\n",
      "  (0, 0)\t4.0\n",
      "  (3, 3)\t5.0\n",
      "  (1, 1)\t7.0\n",
      "  (0, 2)\t9.0\n",
      "If you want to see its `dense` matrix form, you have to use `mat.toarray()`:\n",
      "[[4. 0. 9. 0.]\n",
      " [0. 7. 0. 0.]\n",
      " [0. 0. 0. 0.]\n",
      " [0. 0. 0. 5.]]\n",
      "For x=[1 2 3 4], Mx = [31. 14.  0. 20.]\n"
     ]
    }
   ],
   "source": [
    "from scipy.sparse import coo_matrix\n",
    "\n",
    "# This is how to create a sparse matrix from a given list of (row, column, value) tuples.\n",
    "row  = [0,   3,   1,   0]\n",
    "col  = [0,   3,   1,   2]\n",
    "data = [4.0, 5.0, 7.0, 9.0]\n",
    "M = coo_matrix((data, (row, col)), shape=(4, 4))\n",
    "\n",
    "print(\"When printing a sparse matrix, it shows its nonzero entries:\")\n",
    "print(M)\n",
    "\n",
    "print(\"If you want to see its `dense` matrix form, you have to use `mat.toarray()`:\")\n",
    "print(M.toarray())\n",
    "\n",
    "# This is how to perform matrix-vector products.\n",
    "x = np.array([1, 2, 3, 4])\n",
    "print(\"For x={}, Mx = {}\".format(x, M.dot(x)))"
   ]
  },
  {
   "cell_type": "code",
   "execution_count": 3,
   "id": "7f1c616d-9651-4da7-94fc-3e53f2362250",
   "metadata": {},
   "outputs": [
    {
     "name": "stdout",
     "output_type": "stream",
     "text": [
      "This matrix has values on its diagonal and on offdiagonals 1 and 2 rows ABOVE it.\n",
      "[[1. 1. 1. 0.]\n",
      " [0. 2. 2. 2.]\n",
      " [0. 0. 3. 3.]\n",
      " [0. 0. 0. 4.]]\n",
      "This matrix has values on its diagonal and on offdiagonals 1 and 2 rows BELOW it.\n",
      "[[1. 0. 0. 0.]\n",
      " [1. 2. 0. 0.]\n",
      " [1. 2. 3. 0.]\n",
      " [0. 2. 3. 4.]]\n",
      "If you want to visualize the matrix for yourself, use `plt.imshow`:\n"
     ]
    },
    {
     "data": {
      "image/png": "[encoded data removed]",
      "text/plain": [
       "<Figure size 432x288 with 2 Axes>"
      ]
     },
     "metadata": {
      "needs_background": "light"
     },
     "output_type": "display_data"
    },
    {
     "name": "stdout",
     "output_type": "stream",
     "text": [
      "For b=[1 2 3 4], the solution x to Mx=b is [1.         0.5        0.33333333 0.5       ]\n",
      "And indeed, Mx - b = [0. 0. 0. 0.]\n"
     ]
    }
   ],
   "source": [
    "from scipy.sparse import diags, SparseEfficiencyWarning\n",
    "from scipy.sparse.linalg import spsolve\n",
    "import warnings\n",
    "warnings.simplefilter('ignore', SparseEfficiencyWarning)  # Suppress confusing warning\n",
    "\n",
    "# This is how to create a sparse matrix from a given list of subdiagonals.\n",
    "diagonals = [[1, 2, 3, 4], [1, 2, 3], [1, 2]]\n",
    "M = diags(diagonals, [0, 1, 2])\n",
    "print(\"This matrix has values on its diagonal and on offdiagonals 1 and 2 rows ABOVE it.\")\n",
    "print(M.toarray())\n",
    "\n",
    "M = diags(diagonals, [0, -1, -2])\n",
    "print(\"This matrix has values on its diagonal and on offdiagonals 1 and 2 rows BELOW it.\")\n",
    "print(M.toarray())\n",
    "\n",
    "print(\"If you want to visualize the matrix for yourself, use `plt.imshow`:\")\n",
    "plt.imshow(M.toarray())\n",
    "plt.colorbar()\n",
    "plt.show()\n",
    "\n",
    "# This is how to solve sparse systems.\n",
    "b = np.array([1, 2, 3, 4])\n",
    "x = spsolve(M, b)\n",
    "print(\"For b={}, the solution x to Mx=b is {}\".format(b, x))\n",
    "print(\"And indeed, Mx - b = {}\".format(M.dot(x) - b))"
   ]
  },
  {
   "cell_type": "markdown",
   "id": "972d8aca-b5f4-48a5-8a43-f3dccb0ea9ef",
   "metadata": {},
   "source": [
    "--------\n",
    "# Exercise 1\n",
    "Consider the following boundary value problem involving a nonlinear ordinary differential equation:\n",
    "\n",
    "$$ \\tag{1} y''(x) + \\exp(y(x)) = 0, \\quad 0 < x < 1, \\quad y(0) = y(1) = 0.$$\n",
    "\n",
    "The purpose of this exercise is to approximate the solution to this boundary value problem, by discretizing the problem and then solving the resulting system of nonlinear equations. "
   ]
  },
  {
   "cell_type": "markdown",
   "id": "cb770a03-ba0f-4de2-b326-c429868fa1ac",
   "metadata": {},
   "source": [
    "Problem (1) will be discretized using finite differences. Suppose we use $n+2$ discretization points for $x$, denoted $x_k = kh$ for $k \\in \\{0, \\ldots, n+1\\}$ and $h = 1/(n+1)$. The approximate solution is denoted $y_k = y(x_k)$. \n",
    "\n",
    "We will use a _second-order central finite difference_ approximation for the second derivative: \n",
    "\n",
    "$$ \\tag{2} y''(x_k) \\approx \\frac{y_{k-1} - 2 y_k + y_{k+1}}{h^2}.$$\n",
    "\n",
    "The term $\\exp(y(x_k))$ can simply be approximated by $\\exp(y_k)$. Thus for $x=x_k$, equation (1) becomes\n",
    "\n",
    "$$ \\tag{3} \\frac{y_{k-1} - 2 y_k + y_{k+1}}{h^2} + \\exp y_k = 0, \\quad k = 1, \\ldots, n.$$\n",
    "\n",
    "The boundary conditions (the conditions $y(0) = y(1) = 1$), lead to the requirement that $y_0 = y_{n+1} = 0$. To find the remaining values $y_k$, $k=1, \\ldots, n$, equation (3) will be used for $k = 1, \\ldots, n$. In this way, one obtains $n$ equations for $n$ unknowns, to which, in principle, a rootfinding method can be applied.\n",
    "\n",
    "We will write $\\vec y = \\begin{bmatrix} y_1 \\\\ \\vdots \\\\ y_n \\end{bmatrix}$ for the vector of values to be determined. \n"
   ]
  },
  {
   "cell_type": "markdown",
   "id": "7c341388-63b4-4b7a-aeaf-9dcf4173cefc",
   "metadata": {},
   "source": [
    "## (a)  (2 pts)\n",
    "As a first step, finish the function `SecondDerMatrix` that returns a matrix $\\bf{M}$ that maps the vector $\\vec y$ to the vector of the approximate values $y''(x_k)$, $k=1, \\ldots, n$ given in (2). To get full points for this part of the exercise you must create output in the form of a sparse matrix."
   ]
  },
  {
   "cell_type": "code",
   "execution_count": 53,
   "id": "dcbf2b55-d129-4cbe-a517-416c2682d8d5",
   "metadata": {},
   "outputs": [
    {
     "name": "stdout",
     "output_type": "stream",
     "text": [
      "[[-98.  49.   0.   0.   0.   0.]\n",
      " [ 49. -98.  49.   0.   0.   0.]\n",
      " [  0.  49. -98.  49.   0.   0.]\n",
      " [  0.   0.  49. -98.  49.   0.]\n",
      " [  0.   0.   0.  49. -98.  49.]\n",
      " [  0.   0.   0.   0.  49. -98.]]\n"
     ]
    }
   ],
   "source": [
    "from scipy.sparse import diags, SparseEfficiencyWarning\n",
    "import warnings\n",
    "warnings.simplefilter('ignore', SparseEfficiencyWarning) \n",
    "def SecondDerMatrix(n):\n",
    "    coeff = [1,-2,1]\n",
    "    coeff = [x * (n+1)**2 for x in coeff]\n",
    "    diag1 = [coeff[0]]*(n-1)\n",
    "    diag2 = [coeff[1]]*(n)\n",
    "    diag3 = [coeff[2]]*(n-1)\n",
    "    M = diags([diag1,diag2,diag3],[-1, 0, 1],shape = (n,n))\n",
    "    return M\n",
    "print(SecondDerMatrix(6).toarray())"
   ]
  },
  {
   "cell_type": "markdown",
   "id": "402404a4-8673-4529-b452-94c05e994cf2",
   "metadata": {},
   "source": [
    "## (b)  (1 pt)\n",
    "Second-order central finite differences are exact for quadratic functions. In order to test your implementation, choose $n=10$ and apply the second derivative matrix from part (a) to a quadratic function $y(x)$ with $y(0) = y(1) = 0$ for which you know the second derivative $y''(x)$."
   ]
  },
  {
   "cell_type": "code",
   "execution_count": 5,
   "id": "dea2b67c-4c28-42f3-9555-fdc2795741ab",
   "metadata": {},
   "outputs": [
    {
     "name": "stdout",
     "output_type": "stream",
     "text": [
      "[2, 3, 4, 5, 6, 7, 8, 9, 10, 11]\n",
      "[   121.    242.    242.    242.    242.    242.    242.    242.    242.\n",
      " -17182.]\n"
     ]
    }
   ],
   "source": [
    "k = [*range(2,12)]\n",
    "print(k)\n",
    "y = [x**2 for x in k]\n",
    "M = SecondDerMatrix(10)\n",
    "print(M@y)\n",
    "#second derivates should be 2/h^2"
   ]
  },
  {
   "cell_type": "markdown",
   "id": "3c6b937a-a06a-4d24-ae49-d036ef88ba03",
   "metadata": {},
   "source": [
    "## (c) (2 pts)\n",
    "\n",
    "Defining $\\vec y = \\begin{bmatrix} y_1 \\\\ \\vdots \\\\ y_n \\end{bmatrix}$ and \n",
    "$E(\\vec y) = \\begin{bmatrix} \\exp(y_1) \\\\ \\vdots \\\\ \\exp(y_n) \\end{bmatrix}$, the equations (3) can be written in the form\n",
    "\n",
    "$$ F(\\vec y) := {\\bf M} \\cdot \\vec y + E(\\vec y) = \\vec 0. $$\n",
    "\n",
    "Finish the function `F` that defines $F(\\vec y) = {\\bf M} \\cdot \\vec y + E(\\vec y)$.\n",
    "Finish the function `JacobianF` that computes the Jacobian ${\\bf J}_F(\\vec y)$ of $F(\\vec y)$.\n",
    "To get full points for this part of the exercise, the Jacobian must be computed in the form of a sparse matrix."
   ]
  },
  {
   "cell_type": "code",
   "execution_count": 70,
   "id": "f693cfc3-9639-419a-b8f8-5179c3e60123",
   "metadata": {},
   "outputs": [],
   "source": [
    "def F(y):\n",
    "    n = len(y)\n",
    "    row = [*range(n)]\n",
    "    ey = np.exp(y)\n",
    "    M = SecondDerMatrix(n)\n",
    "    F = M @ y + ey\n",
    "    return F\n",
    "    \n",
    "def JacobianF(y):\n",
    "    n = len(y)\n",
    "    M = SecondDerMatrix(n)\n",
    "    row = [*range(n)]\n",
    "    ey = np.exp(y)\n",
    "    JA = M + coo_matrix((ey, (row, row)), shape=(n,n))\n",
    "    return JA"
   ]
  },
  {
   "cell_type": "code",
   "execution_count": 7,
   "id": "9a2f2995",
   "metadata": {},
   "outputs": [],
   "source": []
  },
  {
   "cell_type": "markdown",
   "id": "8da07053-496c-4e60-a278-422c113ff702",
   "metadata": {},
   "source": [
    "## (d)  (3 pts)\n",
    "1. Write down the first order Taylor expansion $T_F(\\vec y, \\vec s)$ for $F(\\vec y+\\vec s)$.\n",
    "2. In order to check your implementation of the Jacobian matrix, compute and print both $F(\\vec y+\\vec s)$ and its first order Taylor approximation $T_F(\\vec y, \\vec s)$ for a choice $\\vec y$ and $\\vec s$.\n",
    "3. Verify numerically that the error $||F(\\vec y + \\vec s) - T_F(\\vec y, \\vec s)||_2$ is $\\mathcal O(||\\vec s||_2^2)$. Hint: take vectors $\\vec s$ with $\\|\\vec s\\|_2 = \\mathcal O(h)$  for multiple values for $h$, e.g. $h = 10^{-k}$ for a range of $k$. "
   ]
  },
  {
   "cell_type": "markdown",
   "id": "48d3fd40-cff8-40b6-8e6e-5aa2a48fd4e0",
   "metadata": {},
   "source": [
    "Subquestion 1.\n",
    "\n",
    "YOUR ANSWER HERE"
   ]
  },
  {
   "cell_type": "code",
   "execution_count": 8,
   "id": "bb9cb01a-1fca-400f-b860-c4efaceada23",
   "metadata": {},
   "outputs": [],
   "source": [
    "# Subquestions 2 and 3.\n",
    "\n",
    "# YOUR CODE HERE\n"
   ]
  },
  {
   "cell_type": "markdown",
   "id": "c594be9d-8265-4aa0-aa7d-bd9f30e167aa",
   "metadata": {},
   "source": [
    "## (e) (2 pts)\n",
    "1. Finish the function `NewtonSolve` below to solve the system of equations.\n",
    "2. Take $n=40$, and experiment with your function. Try to find a choice of `y0` such that the method doesn't converge, as well as a choice of `y0` such that the method converges. In your answer, list the types of convergence behavior you found. Show a convergent example (if you found any) and a nonconvergent example (if you found any). Show the solutions you found for each example."
   ]
  },
  {
   "cell_type": "code",
   "execution_count": 33,
   "id": "c5adc7dd-783d-4849-b84c-94da20631c9f",
   "metadata": {},
   "outputs": [
    {
     "data": {
      "text/plain": [
       "array([-4.44089210e-16,  2.22044605e-16,  0.00000000e+00,  0.00000000e+00,\n",
       "        2.22044605e-16, -4.44089210e-16])"
      ]
     },
     "execution_count": 33,
     "metadata": {},
     "output_type": "execute_result"
    }
   ],
   "source": [
    "# Subquestion 1.\n",
    "def NewtonSolve(y0, K):\n",
    "    \"\"\" Use Newton's method to solve F(y) = 0 with initial guess y0 and K iterations. \"\"\"\n",
    "    y = y0\n",
    "    for k in range(K):\n",
    "        Fu = -F(y)\n",
    "        J = JacobianF(y)\n",
    "        s = spsolve(J, Fu)\n",
    "        y = y + s\n",
    "    return y"
   ]
  },
  {
   "cell_type": "code",
   "execution_count": 78,
   "id": "9ce50cda-6dcd-4d97-a0d3-2c185ce88875",
   "metadata": {},
   "outputs": [
    {
     "name": "stdout",
     "output_type": "stream",
     "text": [
      "Convergent example y0  where each yk = 1\n",
      "\n",
      "Solution\n",
      "\n",
      "[-3.33066907e-15  1.88737914e-14 -1.33226763e-15 -3.99680289e-15\n",
      "  1.62092562e-14 -1.55431223e-15  4.66293670e-15  1.57651669e-14\n",
      "  1.53210777e-14 -2.57571742e-14  5.10702591e-15  3.68594044e-14\n",
      " -5.50670620e-14  5.75095527e-14 -4.44089210e-14 -7.54951657e-15\n",
      "  2.81996648e-14 -2.37587727e-14  7.03881398e-14 -5.88418203e-14\n",
      " -1.99840144e-15 -4.32986980e-14  6.15063556e-14 -2.22044605e-16\n",
      " -3.59712260e-14  4.08562073e-14 -2.77555756e-14  3.01980663e-14\n",
      " -1.99840144e-14 -2.30926389e-14  2.88657986e-15  1.53210777e-14\n",
      "  4.41868764e-14 -5.19584376e-14 -1.33226763e-15  1.64313008e-14\n",
      "  3.10862447e-15 -1.11022302e-15 -2.44249065e-15 -3.33066907e-15]\n",
      "[            nan -1.00000000e+00 -1.02246782e+00             inf\n",
      " -1.56460105e+00  0.00000000e+00 -1.03929971e+02             inf\n",
      "            -inf -2.28902077e+03 -1.99221782e+00  2.27870618e-01\n",
      "  2.24994473e-01  5.83539207e-01 -1.00000000e+00 -9.88748469e-01\n",
      "             inf            -inf -1.79467808e+00 -1.00000000e+00\n",
      "             nan -3.69632172e-01 -5.57492951e-01 -1.00000000e+00\n",
      "             inf             nan -0.00000000e+00            -inf\n",
      "             nan            -inf             nan             inf\n",
      "  0.00000000e+00             inf             inf             inf\n",
      "            -inf            -inf             nan -0.00000000e+00]\n",
      "0.9529431605778693\n",
      "0.7844692856949641\n",
      "2070413.9724106614\n",
      "1745953.359933265\n",
      "Non-convergent example y0  where each yk = 1 exept one element which is set to 100\n",
      "\n",
      "Solution\n",
      "\n",
      "[1.95684001e+00 6.53548027e+02 8.38959797e+03 1.91929738e+04\n",
      " 7.06475267e+04 1.78057135e+01 3.43070880e+04 3.78855024e+05\n",
      " 5.85987913e+07 8.19719861e+09 1.05449570e+12 1.23770172e+14\n",
      " 1.31532290e+16 1.25607951e+18 1.06996233e+20 8.07169877e+21\n",
      " 5.35513373e+23 3.10340630e+25 1.56069811e+27 6.76799022e+28\n",
      " 2.51543867e+30 5.02828039e+28 8.61880589e+26 1.27512352e+25\n",
      " 1.63943429e+23 1.84471810e+21 1.82983323e+19 1.61204936e+17\n",
      " 1.27102356e+15 9.03937388e+12 5.84528995e+10 3.46494982e+08\n",
      " 1.88922689e+06 6.73207329e+04 2.01152586e+11 1.32122418e+12\n",
      " 5.81326364e+09 1.79587629e+07 3.06709039e+39 6.32541962e+19]\n",
      "[2.00682583e+02 1.22735842e+05 7.90751483e+06 6.06227741e+05\n",
      " 4.35828728e+04 4.14829391e+04 7.70967905e+11 9.03168201e+12\n",
      " 2.53938796e+09 1.48755191e+16 5.44761906e+26 1.22478078e+16\n",
      " 2.93439542e+05 6.83226404e+04 1.16591065e+04 2.32223124e+04\n",
      " 5.13224799e+04 4.89244353e+05 5.24740071e+10 2.62866503e+10\n",
      " 4.27001404e+04 1.10288839e+06 3.36246794e+06 5.48789240e+06\n",
      " 3.61693544e+06 2.26539860e+05 5.06758966e+07 4.79691183e+05\n",
      " 3.58774439e+18 1.19277590e+05 1.61317555e+06 5.79011597e+04\n",
      " 6.46429663e+04 1.39563048e+04 2.33232380e+04 2.38675017e+04\n",
      " 4.43199947e+07 2.44695542e+11 2.68570100e+13 7.21403806e+05]\n",
      "[1.62430891e+001 8.98120676e+003 1.23277208e+005 5.33292354e+007\n",
      " 2.37179000e+010 1.62421253e+045 7.52764006e+079 1.12432303e+028\n",
      " 2.08798321e+034 1.34822699e+073 4.11889683e+091 4.54067259e+051\n",
      " 5.00563936e+011 2.87751186e+040 1.68627828e+009 3.81247706e+004\n",
      " 2.28850340e+006 2.15233039e+008 8.54419392e+016 6.17936598e+029\n",
      " 5.55131643e+020 1.44109379e+044 2.75844111e+099 2.62800697e+048\n",
      " 6.27380911e+074 1.49773882e+101 3.57553369e+127 1.95292576e+063\n",
      " 1.10552357e+035 1.68292940e+033 1.22846497e+119 3.41964745e+072\n",
      " 9.51918770e+025 1.40151297e+022 1.15250585e+016 5.45256733e+009\n",
      " 5.82281556e+006 9.35171880e+007 9.42689331e+007 7.21597326e+003]\n"
     ]
    }
   ],
   "source": [
    "# Subquestion 2, code part\n",
    "K = 30\n",
    "n = 40\n",
    "#Convergent\n",
    "y0 = [1]*n\n",
    "print(\"Convergent example y0  where each yk = 1\\n\")\n",
    "print(\"Solution\\n\")\n",
    "print(F(NewtonSolve(y0, K)))\n",
    "#q = np.log(abs((F(NewtonSolve(y0, K+1))-F(NewtonSolve(y0, K)))/(F(NewtonSolve(y0, K))-F(NewtonSolve(y0, K-1))))) /np.log(abs((F(NewtonSolve(y0, K))-F(NewtonSolve(y0, K-1)))/(F(NewtonSolve(y0, K-1))-F(NewtonSolve(y0, K-2)))))\n",
    "print(q)\n",
    "print(np.linalg.norm(F(NewtonSolve(y0, 1001)))/np.linalg.norm(F(NewtonSolve(y0, 1000)))**1)\n",
    "print(np.linalg.norm(F(NewtonSolve(y0, 1002)))/np.linalg.norm(F(NewtonSolve(y0, 1001)))**1)\n",
    "#Linear convergence C<1 and r<1\n",
    "#NonConvergent\n",
    "y0[20] = 100\n",
    "print(\"Non-convergent example y0  where each yk = 1 exept one element which is set to 100\\n\")\n",
    "print(\"Solution\\n\")\n",
    "print(F(NewtonSolve(y0, K)))\n",
    "print(F(NewtonSolve(y0, 90)))\n",
    "print(F(NewtonSolve(y0, 200)))\n"
   ]
  },
  {
   "cell_type": "markdown",
   "id": "441c242a-ec62-4761-b3d5-1aaf00ed3ab2",
   "metadata": {},
   "source": [
    "Subquestion 2, text part YOUR ANSWER HERE"
   ]
  }
 ],
 "metadata": {
  "kernelspec": {
   "display_name": "Python 3",
   "language": "python",
   "name": "python3"
  },
  "language_info": {
   "codemirror_mode": {
    "name": "ipython",
    "version": 3
   },
   "file_extension": ".py",
   "mimetype": "text/x-python",
   "name": "python",
   "nbconvert_exporter": "python",
   "pygments_lexer": "ipython3",
   "version": "3.8.8"
  }
 },
 "nbformat": 4,
 "nbformat_minor": 5
}
